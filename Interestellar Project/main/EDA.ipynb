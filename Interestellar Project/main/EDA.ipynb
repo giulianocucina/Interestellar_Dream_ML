{
 "cells": [
  {
   "attachments": {},
   "cell_type": "markdown",
   "metadata": {},
   "source": [
    "### Libraries"
   ]
  },
  {
   "cell_type": "code",
   "execution_count": 1,
   "metadata": {},
   "outputs": [],
   "source": [
    "#Importing libraries\n",
    "import numpy as np\n",
    "import pandas as pd\n",
    "import seaborn as sns\n",
    "from tqdm import tqdm\n",
    "import matplotlib.pyplot as plt\n",
    "from sklearn.model_selection import train_test_split\n",
    "from sklearn.metrics import accuracy_score, f1_score, precision_score, recall_score,\\\n",
    "                            roc_auc_score, roc_curve, precision_recall_curve, confusion_matrix, \\\n",
    "                                classification_report\n",
    "\n",
    "import warnings\n",
    "import sys\n",
    "\n",
    "if not sys.warnoptions:\n",
    "    import warnings\n",
    "    warnings.simplefilter(\"ignore\")"
   ]
  },
  {
   "attachments": {},
   "cell_type": "markdown",
   "metadata": {},
   "source": [
    "***"
   ]
  },
  {
   "attachments": {},
   "cell_type": "markdown",
   "metadata": {},
   "source": [
    "### Datasets"
   ]
  },
  {
   "cell_type": "code",
   "execution_count": 2,
   "metadata": {},
   "outputs": [],
   "source": [
    "#DF\n",
    "df_billing = pd.read_csv(r\"..\\data\\billing_info.csv\")\n",
    "df_passenger = pd.read_csv(r\"..\\data\\passenger.csv\")\n",
    "df_travel_data = pd.read_csv(r\"..\\data\\travel_data.csv\")\n",
    "test = pd.read_csv(r\"..\\data\\test.csv\")"
   ]
  },
  {
   "cell_type": "code",
   "execution_count": 3,
   "metadata": {},
   "outputs": [],
   "source": [
    "#Dropping unnecessary columns\n",
    "df_billing.drop([\"Unnamed: 0\"], axis=1, inplace = True)\n",
    "df_passenger.drop([\"Unnamed: 0\"], axis=1, inplace = True)\n",
    "df_travel_data.drop([\"Unnamed: 0\"], axis=1, inplace = True)"
   ]
  },
  {
   "cell_type": "code",
   "execution_count": 4,
   "metadata": {},
   "outputs": [
    {
     "data": {
      "text/html": [
       "<div>\n",
       "<style scoped>\n",
       "    .dataframe tbody tr th:only-of-type {\n",
       "        vertical-align: middle;\n",
       "    }\n",
       "\n",
       "    .dataframe tbody tr th {\n",
       "        vertical-align: top;\n",
       "    }\n",
       "\n",
       "    .dataframe thead th {\n",
       "        text-align: right;\n",
       "    }\n",
       "</style>\n",
       "<table border=\"1\" class=\"dataframe\">\n",
       "  <thead>\n",
       "    <tr style=\"text-align: right;\">\n",
       "      <th></th>\n",
       "      <th>PassengerId</th>\n",
       "      <th>RoomService</th>\n",
       "      <th>FoodCourt</th>\n",
       "      <th>ShoppingMall</th>\n",
       "      <th>Spa</th>\n",
       "      <th>VRDeck</th>\n",
       "    </tr>\n",
       "  </thead>\n",
       "  <tbody>\n",
       "    <tr>\n",
       "      <th>0</th>\n",
       "      <td>0001_01</td>\n",
       "      <td>0.0</td>\n",
       "      <td>0.0</td>\n",
       "      <td>0.0</td>\n",
       "      <td>0.0</td>\n",
       "      <td>0.0</td>\n",
       "    </tr>\n",
       "    <tr>\n",
       "      <th>1</th>\n",
       "      <td>0002_01</td>\n",
       "      <td>109.0</td>\n",
       "      <td>9.0</td>\n",
       "      <td>25.0</td>\n",
       "      <td>549.0</td>\n",
       "      <td>44.0</td>\n",
       "    </tr>\n",
       "    <tr>\n",
       "      <th>2</th>\n",
       "      <td>0003_01</td>\n",
       "      <td>43.0</td>\n",
       "      <td>3576.0</td>\n",
       "      <td>0.0</td>\n",
       "      <td>6715.0</td>\n",
       "      <td>49.0</td>\n",
       "    </tr>\n",
       "    <tr>\n",
       "      <th>3</th>\n",
       "      <td>0003_02</td>\n",
       "      <td>0.0</td>\n",
       "      <td>1283.0</td>\n",
       "      <td>371.0</td>\n",
       "      <td>3329.0</td>\n",
       "      <td>193.0</td>\n",
       "    </tr>\n",
       "    <tr>\n",
       "      <th>4</th>\n",
       "      <td>0004_01</td>\n",
       "      <td>303.0</td>\n",
       "      <td>70.0</td>\n",
       "      <td>151.0</td>\n",
       "      <td>565.0</td>\n",
       "      <td>2.0</td>\n",
       "    </tr>\n",
       "  </tbody>\n",
       "</table>\n",
       "</div>"
      ],
      "text/plain": [
       "  PassengerId  RoomService  FoodCourt  ShoppingMall     Spa  VRDeck\n",
       "0     0001_01          0.0        0.0           0.0     0.0     0.0\n",
       "1     0002_01        109.0        9.0          25.0   549.0    44.0\n",
       "2     0003_01         43.0     3576.0           0.0  6715.0    49.0\n",
       "3     0003_02          0.0     1283.0         371.0  3329.0   193.0\n",
       "4     0004_01        303.0       70.0         151.0   565.0     2.0"
      ]
     },
     "execution_count": 4,
     "metadata": {},
     "output_type": "execute_result"
    }
   ],
   "source": [
    "df_billing.head()"
   ]
  },
  {
   "cell_type": "code",
   "execution_count": 5,
   "metadata": {},
   "outputs": [
    {
     "data": {
      "text/html": [
       "<div>\n",
       "<style scoped>\n",
       "    .dataframe tbody tr th:only-of-type {\n",
       "        vertical-align: middle;\n",
       "    }\n",
       "\n",
       "    .dataframe tbody tr th {\n",
       "        vertical-align: top;\n",
       "    }\n",
       "\n",
       "    .dataframe thead th {\n",
       "        text-align: right;\n",
       "    }\n",
       "</style>\n",
       "<table border=\"1\" class=\"dataframe\">\n",
       "  <thead>\n",
       "    <tr style=\"text-align: right;\">\n",
       "      <th></th>\n",
       "      <th>PassengerId</th>\n",
       "      <th>Name</th>\n",
       "      <th>Age</th>\n",
       "      <th>HomePlanet</th>\n",
       "    </tr>\n",
       "  </thead>\n",
       "  <tbody>\n",
       "    <tr>\n",
       "      <th>0</th>\n",
       "      <td>0001_01</td>\n",
       "      <td>Maham Ofracculy</td>\n",
       "      <td>39.0</td>\n",
       "      <td>Europa</td>\n",
       "    </tr>\n",
       "    <tr>\n",
       "      <th>1</th>\n",
       "      <td>0002_01</td>\n",
       "      <td>Juanna Vines</td>\n",
       "      <td>24.0</td>\n",
       "      <td>Earth</td>\n",
       "    </tr>\n",
       "    <tr>\n",
       "      <th>2</th>\n",
       "      <td>0003_01</td>\n",
       "      <td>Altark Susent</td>\n",
       "      <td>58.0</td>\n",
       "      <td>Europa</td>\n",
       "    </tr>\n",
       "    <tr>\n",
       "      <th>3</th>\n",
       "      <td>0003_02</td>\n",
       "      <td>Solam Susent</td>\n",
       "      <td>33.0</td>\n",
       "      <td>Europa</td>\n",
       "    </tr>\n",
       "    <tr>\n",
       "      <th>4</th>\n",
       "      <td>0004_01</td>\n",
       "      <td>Willy Santantines</td>\n",
       "      <td>16.0</td>\n",
       "      <td>Earth</td>\n",
       "    </tr>\n",
       "  </tbody>\n",
       "</table>\n",
       "</div>"
      ],
      "text/plain": [
       "  PassengerId               Name   Age HomePlanet\n",
       "0     0001_01    Maham Ofracculy  39.0     Europa\n",
       "1     0002_01       Juanna Vines  24.0      Earth\n",
       "2     0003_01      Altark Susent  58.0     Europa\n",
       "3     0003_02       Solam Susent  33.0     Europa\n",
       "4     0004_01  Willy Santantines  16.0      Earth"
      ]
     },
     "execution_count": 5,
     "metadata": {},
     "output_type": "execute_result"
    }
   ],
   "source": [
    "df_passenger.head()"
   ]
  },
  {
   "cell_type": "code",
   "execution_count": 6,
   "metadata": {},
   "outputs": [
    {
     "data": {
      "text/html": [
       "<div>\n",
       "<style scoped>\n",
       "    .dataframe tbody tr th:only-of-type {\n",
       "        vertical-align: middle;\n",
       "    }\n",
       "\n",
       "    .dataframe tbody tr th {\n",
       "        vertical-align: top;\n",
       "    }\n",
       "\n",
       "    .dataframe thead th {\n",
       "        text-align: right;\n",
       "    }\n",
       "</style>\n",
       "<table border=\"1\" class=\"dataframe\">\n",
       "  <thead>\n",
       "    <tr style=\"text-align: right;\">\n",
       "      <th></th>\n",
       "      <th>PassengerId</th>\n",
       "      <th>Destination</th>\n",
       "      <th>VIP</th>\n",
       "      <th>Cabin</th>\n",
       "      <th>CryoSleep</th>\n",
       "      <th>Transported</th>\n",
       "    </tr>\n",
       "  </thead>\n",
       "  <tbody>\n",
       "    <tr>\n",
       "      <th>0</th>\n",
       "      <td>0001_01</td>\n",
       "      <td>TRAPPIST-1e</td>\n",
       "      <td>False</td>\n",
       "      <td>B/0/P</td>\n",
       "      <td>False</td>\n",
       "      <td>False</td>\n",
       "    </tr>\n",
       "    <tr>\n",
       "      <th>1</th>\n",
       "      <td>0002_01</td>\n",
       "      <td>TRAPPIST-1e</td>\n",
       "      <td>False</td>\n",
       "      <td>F/0/S</td>\n",
       "      <td>False</td>\n",
       "      <td>True</td>\n",
       "    </tr>\n",
       "    <tr>\n",
       "      <th>2</th>\n",
       "      <td>0003_01</td>\n",
       "      <td>TRAPPIST-1e</td>\n",
       "      <td>True</td>\n",
       "      <td>A/0/S</td>\n",
       "      <td>False</td>\n",
       "      <td>False</td>\n",
       "    </tr>\n",
       "    <tr>\n",
       "      <th>3</th>\n",
       "      <td>0003_02</td>\n",
       "      <td>TRAPPIST-1e</td>\n",
       "      <td>False</td>\n",
       "      <td>A/0/S</td>\n",
       "      <td>False</td>\n",
       "      <td>False</td>\n",
       "    </tr>\n",
       "    <tr>\n",
       "      <th>4</th>\n",
       "      <td>0004_01</td>\n",
       "      <td>TRAPPIST-1e</td>\n",
       "      <td>False</td>\n",
       "      <td>F/1/S</td>\n",
       "      <td>False</td>\n",
       "      <td>True</td>\n",
       "    </tr>\n",
       "  </tbody>\n",
       "</table>\n",
       "</div>"
      ],
      "text/plain": [
       "  PassengerId  Destination    VIP  Cabin CryoSleep  Transported\n",
       "0     0001_01  TRAPPIST-1e  False  B/0/P     False        False\n",
       "1     0002_01  TRAPPIST-1e  False  F/0/S     False         True\n",
       "2     0003_01  TRAPPIST-1e   True  A/0/S     False        False\n",
       "3     0003_02  TRAPPIST-1e  False  A/0/S     False        False\n",
       "4     0004_01  TRAPPIST-1e  False  F/1/S     False         True"
      ]
     },
     "execution_count": 6,
     "metadata": {},
     "output_type": "execute_result"
    }
   ],
   "source": [
    "df_travel_data.head()"
   ]
  },
  {
   "cell_type": "code",
   "execution_count": 7,
   "metadata": {},
   "outputs": [],
   "source": [
    "#Merging DFs\n",
    "df_tmp = df_passenger.merge(df_travel_data, how = \"inner\", on = \"PassengerId\")\n",
    "train = df_tmp.merge(df_billing, how = \"inner\", on = \"PassengerId\")\n",
    "train.columns = train.columns.str.lower()\n",
    "test.columns = test.columns.str.lower()"
   ]
  },
  {
   "cell_type": "code",
   "execution_count": 8,
   "metadata": {},
   "outputs": [
    {
     "data": {
      "text/html": [
       "<div>\n",
       "<style scoped>\n",
       "    .dataframe tbody tr th:only-of-type {\n",
       "        vertical-align: middle;\n",
       "    }\n",
       "\n",
       "    .dataframe tbody tr th {\n",
       "        vertical-align: top;\n",
       "    }\n",
       "\n",
       "    .dataframe thead th {\n",
       "        text-align: right;\n",
       "    }\n",
       "</style>\n",
       "<table border=\"1\" class=\"dataframe\">\n",
       "  <thead>\n",
       "    <tr style=\"text-align: right;\">\n",
       "      <th></th>\n",
       "      <th>passengerid</th>\n",
       "      <th>name</th>\n",
       "      <th>age</th>\n",
       "      <th>homeplanet</th>\n",
       "      <th>destination</th>\n",
       "      <th>vip</th>\n",
       "      <th>cabin</th>\n",
       "      <th>cryosleep</th>\n",
       "      <th>transported</th>\n",
       "      <th>roomservice</th>\n",
       "      <th>foodcourt</th>\n",
       "      <th>shoppingmall</th>\n",
       "      <th>spa</th>\n",
       "      <th>vrdeck</th>\n",
       "    </tr>\n",
       "  </thead>\n",
       "  <tbody>\n",
       "    <tr>\n",
       "      <th>0</th>\n",
       "      <td>0001_01</td>\n",
       "      <td>Maham Ofracculy</td>\n",
       "      <td>39.0</td>\n",
       "      <td>Europa</td>\n",
       "      <td>TRAPPIST-1e</td>\n",
       "      <td>False</td>\n",
       "      <td>B/0/P</td>\n",
       "      <td>False</td>\n",
       "      <td>False</td>\n",
       "      <td>0.0</td>\n",
       "      <td>0.0</td>\n",
       "      <td>0.0</td>\n",
       "      <td>0.0</td>\n",
       "      <td>0.0</td>\n",
       "    </tr>\n",
       "    <tr>\n",
       "      <th>1</th>\n",
       "      <td>0002_01</td>\n",
       "      <td>Juanna Vines</td>\n",
       "      <td>24.0</td>\n",
       "      <td>Earth</td>\n",
       "      <td>TRAPPIST-1e</td>\n",
       "      <td>False</td>\n",
       "      <td>F/0/S</td>\n",
       "      <td>False</td>\n",
       "      <td>True</td>\n",
       "      <td>109.0</td>\n",
       "      <td>9.0</td>\n",
       "      <td>25.0</td>\n",
       "      <td>549.0</td>\n",
       "      <td>44.0</td>\n",
       "    </tr>\n",
       "    <tr>\n",
       "      <th>2</th>\n",
       "      <td>0003_01</td>\n",
       "      <td>Altark Susent</td>\n",
       "      <td>58.0</td>\n",
       "      <td>Europa</td>\n",
       "      <td>TRAPPIST-1e</td>\n",
       "      <td>True</td>\n",
       "      <td>A/0/S</td>\n",
       "      <td>False</td>\n",
       "      <td>False</td>\n",
       "      <td>43.0</td>\n",
       "      <td>3576.0</td>\n",
       "      <td>0.0</td>\n",
       "      <td>6715.0</td>\n",
       "      <td>49.0</td>\n",
       "    </tr>\n",
       "    <tr>\n",
       "      <th>3</th>\n",
       "      <td>0003_02</td>\n",
       "      <td>Solam Susent</td>\n",
       "      <td>33.0</td>\n",
       "      <td>Europa</td>\n",
       "      <td>TRAPPIST-1e</td>\n",
       "      <td>False</td>\n",
       "      <td>A/0/S</td>\n",
       "      <td>False</td>\n",
       "      <td>False</td>\n",
       "      <td>0.0</td>\n",
       "      <td>1283.0</td>\n",
       "      <td>371.0</td>\n",
       "      <td>3329.0</td>\n",
       "      <td>193.0</td>\n",
       "    </tr>\n",
       "    <tr>\n",
       "      <th>4</th>\n",
       "      <td>0004_01</td>\n",
       "      <td>Willy Santantines</td>\n",
       "      <td>16.0</td>\n",
       "      <td>Earth</td>\n",
       "      <td>TRAPPIST-1e</td>\n",
       "      <td>False</td>\n",
       "      <td>F/1/S</td>\n",
       "      <td>False</td>\n",
       "      <td>True</td>\n",
       "      <td>303.0</td>\n",
       "      <td>70.0</td>\n",
       "      <td>151.0</td>\n",
       "      <td>565.0</td>\n",
       "      <td>2.0</td>\n",
       "    </tr>\n",
       "  </tbody>\n",
       "</table>\n",
       "</div>"
      ],
      "text/plain": [
       "  passengerid               name   age homeplanet  destination    vip  cabin  \\\n",
       "0     0001_01    Maham Ofracculy  39.0     Europa  TRAPPIST-1e  False  B/0/P   \n",
       "1     0002_01       Juanna Vines  24.0      Earth  TRAPPIST-1e  False  F/0/S   \n",
       "2     0003_01      Altark Susent  58.0     Europa  TRAPPIST-1e   True  A/0/S   \n",
       "3     0003_02       Solam Susent  33.0     Europa  TRAPPIST-1e  False  A/0/S   \n",
       "4     0004_01  Willy Santantines  16.0      Earth  TRAPPIST-1e  False  F/1/S   \n",
       "\n",
       "  cryosleep  transported  roomservice  foodcourt  shoppingmall     spa  vrdeck  \n",
       "0     False        False          0.0        0.0           0.0     0.0     0.0  \n",
       "1     False         True        109.0        9.0          25.0   549.0    44.0  \n",
       "2     False        False         43.0     3576.0           0.0  6715.0    49.0  \n",
       "3     False        False          0.0     1283.0         371.0  3329.0   193.0  \n",
       "4     False         True        303.0       70.0         151.0   565.0     2.0  "
      ]
     },
     "execution_count": 8,
     "metadata": {},
     "output_type": "execute_result"
    }
   ],
   "source": [
    "#Train\n",
    "train.head()"
   ]
  },
  {
   "cell_type": "code",
   "execution_count": 9,
   "metadata": {},
   "outputs": [
    {
     "data": {
      "text/html": [
       "<div>\n",
       "<style scoped>\n",
       "    .dataframe tbody tr th:only-of-type {\n",
       "        vertical-align: middle;\n",
       "    }\n",
       "\n",
       "    .dataframe tbody tr th {\n",
       "        vertical-align: top;\n",
       "    }\n",
       "\n",
       "    .dataframe thead th {\n",
       "        text-align: right;\n",
       "    }\n",
       "</style>\n",
       "<table border=\"1\" class=\"dataframe\">\n",
       "  <thead>\n",
       "    <tr style=\"text-align: right;\">\n",
       "      <th></th>\n",
       "      <th>passengerid</th>\n",
       "      <th>homeplanet</th>\n",
       "      <th>cryosleep</th>\n",
       "      <th>cabin</th>\n",
       "      <th>destination</th>\n",
       "      <th>age</th>\n",
       "      <th>vip</th>\n",
       "      <th>roomservice</th>\n",
       "      <th>foodcourt</th>\n",
       "      <th>shoppingmall</th>\n",
       "      <th>spa</th>\n",
       "      <th>vrdeck</th>\n",
       "      <th>name</th>\n",
       "    </tr>\n",
       "  </thead>\n",
       "  <tbody>\n",
       "    <tr>\n",
       "      <th>0</th>\n",
       "      <td>0013_01</td>\n",
       "      <td>Earth</td>\n",
       "      <td>True</td>\n",
       "      <td>G/3/S</td>\n",
       "      <td>TRAPPIST-1e</td>\n",
       "      <td>27.0</td>\n",
       "      <td>False</td>\n",
       "      <td>0.0</td>\n",
       "      <td>0.0</td>\n",
       "      <td>0.0</td>\n",
       "      <td>0.0</td>\n",
       "      <td>0.0</td>\n",
       "      <td>Nelly Carsoning</td>\n",
       "    </tr>\n",
       "    <tr>\n",
       "      <th>1</th>\n",
       "      <td>0018_01</td>\n",
       "      <td>Earth</td>\n",
       "      <td>False</td>\n",
       "      <td>F/4/S</td>\n",
       "      <td>TRAPPIST-1e</td>\n",
       "      <td>19.0</td>\n",
       "      <td>False</td>\n",
       "      <td>0.0</td>\n",
       "      <td>9.0</td>\n",
       "      <td>0.0</td>\n",
       "      <td>2823.0</td>\n",
       "      <td>0.0</td>\n",
       "      <td>Lerome Peckers</td>\n",
       "    </tr>\n",
       "    <tr>\n",
       "      <th>2</th>\n",
       "      <td>0019_01</td>\n",
       "      <td>Europa</td>\n",
       "      <td>True</td>\n",
       "      <td>C/0/S</td>\n",
       "      <td>55 Cancri e</td>\n",
       "      <td>31.0</td>\n",
       "      <td>False</td>\n",
       "      <td>0.0</td>\n",
       "      <td>0.0</td>\n",
       "      <td>0.0</td>\n",
       "      <td>0.0</td>\n",
       "      <td>0.0</td>\n",
       "      <td>Sabih Unhearfus</td>\n",
       "    </tr>\n",
       "    <tr>\n",
       "      <th>3</th>\n",
       "      <td>0021_01</td>\n",
       "      <td>Europa</td>\n",
       "      <td>False</td>\n",
       "      <td>C/1/S</td>\n",
       "      <td>TRAPPIST-1e</td>\n",
       "      <td>38.0</td>\n",
       "      <td>False</td>\n",
       "      <td>0.0</td>\n",
       "      <td>6652.0</td>\n",
       "      <td>0.0</td>\n",
       "      <td>181.0</td>\n",
       "      <td>585.0</td>\n",
       "      <td>Meratz Caltilter</td>\n",
       "    </tr>\n",
       "    <tr>\n",
       "      <th>4</th>\n",
       "      <td>0023_01</td>\n",
       "      <td>Earth</td>\n",
       "      <td>False</td>\n",
       "      <td>F/5/S</td>\n",
       "      <td>TRAPPIST-1e</td>\n",
       "      <td>20.0</td>\n",
       "      <td>False</td>\n",
       "      <td>10.0</td>\n",
       "      <td>0.0</td>\n",
       "      <td>635.0</td>\n",
       "      <td>0.0</td>\n",
       "      <td>0.0</td>\n",
       "      <td>Brence Harperez</td>\n",
       "    </tr>\n",
       "  </tbody>\n",
       "</table>\n",
       "</div>"
      ],
      "text/plain": [
       "  passengerid homeplanet cryosleep  cabin  destination   age    vip  \\\n",
       "0     0013_01      Earth      True  G/3/S  TRAPPIST-1e  27.0  False   \n",
       "1     0018_01      Earth     False  F/4/S  TRAPPIST-1e  19.0  False   \n",
       "2     0019_01     Europa      True  C/0/S  55 Cancri e  31.0  False   \n",
       "3     0021_01     Europa     False  C/1/S  TRAPPIST-1e  38.0  False   \n",
       "4     0023_01      Earth     False  F/5/S  TRAPPIST-1e  20.0  False   \n",
       "\n",
       "   roomservice  foodcourt  shoppingmall     spa  vrdeck              name  \n",
       "0          0.0        0.0           0.0     0.0     0.0   Nelly Carsoning  \n",
       "1          0.0        9.0           0.0  2823.0     0.0    Lerome Peckers  \n",
       "2          0.0        0.0           0.0     0.0     0.0   Sabih Unhearfus  \n",
       "3          0.0     6652.0           0.0   181.0   585.0  Meratz Caltilter  \n",
       "4         10.0        0.0         635.0     0.0     0.0   Brence Harperez  "
      ]
     },
     "execution_count": 9,
     "metadata": {},
     "output_type": "execute_result"
    }
   ],
   "source": [
    "#Test\n",
    "test.head()"
   ]
  },
  {
   "cell_type": "code",
   "execution_count": 10,
   "metadata": {},
   "outputs": [
    {
     "name": "stdout",
     "output_type": "stream",
     "text": [
      "<class 'pandas.core.frame.DataFrame'>\n",
      "Int64Index: 8693 entries, 0 to 8692\n",
      "Data columns (total 14 columns):\n",
      " #   Column        Non-Null Count  Dtype  \n",
      "---  ------        --------------  -----  \n",
      " 0   passengerid   8693 non-null   object \n",
      " 1   name          8493 non-null   object \n",
      " 2   age           8514 non-null   float64\n",
      " 3   homeplanet    8492 non-null   object \n",
      " 4   destination   8511 non-null   object \n",
      " 5   vip           8490 non-null   object \n",
      " 6   cabin         8494 non-null   object \n",
      " 7   cryosleep     8476 non-null   object \n",
      " 8   transported   8693 non-null   bool   \n",
      " 9   roomservice   8512 non-null   float64\n",
      " 10  foodcourt     8510 non-null   float64\n",
      " 11  shoppingmall  8485 non-null   float64\n",
      " 12  spa           8510 non-null   float64\n",
      " 13  vrdeck        8505 non-null   float64\n",
      "dtypes: bool(1), float64(6), object(7)\n",
      "memory usage: 959.3+ KB\n"
     ]
    }
   ],
   "source": [
    "train.info()"
   ]
  },
  {
   "cell_type": "code",
   "execution_count": 11,
   "metadata": {},
   "outputs": [
    {
     "name": "stdout",
     "output_type": "stream",
     "text": [
      "<class 'pandas.core.frame.DataFrame'>\n",
      "RangeIndex: 4277 entries, 0 to 4276\n",
      "Data columns (total 13 columns):\n",
      " #   Column        Non-Null Count  Dtype  \n",
      "---  ------        --------------  -----  \n",
      " 0   passengerid   4277 non-null   object \n",
      " 1   homeplanet    4190 non-null   object \n",
      " 2   cryosleep     4184 non-null   object \n",
      " 3   cabin         4177 non-null   object \n",
      " 4   destination   4185 non-null   object \n",
      " 5   age           4186 non-null   float64\n",
      " 6   vip           4184 non-null   object \n",
      " 7   roomservice   4195 non-null   float64\n",
      " 8   foodcourt     4171 non-null   float64\n",
      " 9   shoppingmall  4179 non-null   float64\n",
      " 10  spa           4176 non-null   float64\n",
      " 11  vrdeck        4197 non-null   float64\n",
      " 12  name          4183 non-null   object \n",
      "dtypes: float64(6), object(7)\n",
      "memory usage: 434.5+ KB\n"
     ]
    }
   ],
   "source": [
    "test.info()"
   ]
  },
  {
   "attachments": {},
   "cell_type": "markdown",
   "metadata": {},
   "source": [
    "***"
   ]
  },
  {
   "attachments": {},
   "cell_type": "markdown",
   "metadata": {},
   "source": [
    "### EDA"
   ]
  },
  {
   "cell_type": "code",
   "execution_count": 12,
   "metadata": {},
   "outputs": [
    {
     "data": {
      "image/png": "[encoded data removed]",
      "text/plain": [
       "<Figure size 640x480 with 1 Axes>"
      ]
     },
     "metadata": {},
     "output_type": "display_data"
    }
   ],
   "source": [
    "#Count target\n",
    "sns.countplot(data=train, y=\"transported\");"
   ]
  },
  {
   "cell_type": "code",
   "execution_count": 13,
   "metadata": {},
   "outputs": [
    {
     "data": {
      "image/png": "[encoded data removed]",
      "text/plain": [
       "<Figure size 1000x1000 with 2 Axes>"
      ]
     },
     "metadata": {},
     "output_type": "display_data"
    }
   ],
   "source": [
    "#Correlation matrix\n",
    "plt.figure(figsize=(10,10))\n",
    "sns.heatmap(train.corr(),\n",
    "            vmin=-1,\n",
    "            vmax=1,\n",
    "            center=0,\n",
    "            cmap=sns.diverging_palette(145, 280, s=85, l=25, n=10),\n",
    "            square=True,\n",
    "            annot=True,\n",
    "            linewidths=.5);"
   ]
  },
  {
   "cell_type": "code",
   "execution_count": 14,
   "metadata": {},
   "outputs": [
    {
     "data": {
      "text/plain": [
       "Index(['passengerid', 'name', 'age', 'homeplanet', 'destination', 'vip',\n",
       "       'cabin', 'cryosleep', 'transported', 'roomservice', 'foodcourt',\n",
       "       'shoppingmall', 'spa', 'vrdeck'],\n",
       "      dtype='object')"
      ]
     },
     "execution_count": 14,
     "metadata": {},
     "output_type": "execute_result"
    }
   ],
   "source": [
    "train.columns"
   ]
  },
  {
   "cell_type": "code",
   "execution_count": 15,
   "metadata": {},
   "outputs": [
    {
     "data": {
      "text/plain": [
       "nan"
      ]
     },
     "execution_count": 15,
     "metadata": {},
     "output_type": "execute_result"
    }
   ],
   "source": [
    "train.age.unique().min()"
   ]
  },
  {
   "cell_type": "code",
   "execution_count": 16,
   "metadata": {},
   "outputs": [
    {
     "data": {
      "text/plain": [
       "nan"
      ]
     },
     "execution_count": 16,
     "metadata": {},
     "output_type": "execute_result"
    }
   ],
   "source": [
    "train.age.unique().max()"
   ]
  },
  {
   "cell_type": "code",
   "execution_count": 17,
   "metadata": {},
   "outputs": [
    {
     "data": {
      "text/plain": [
       "True      199\n",
       "False    8291\n",
       "Name: vip, dtype: int64"
      ]
     },
     "execution_count": 17,
     "metadata": {},
     "output_type": "execute_result"
    }
   ],
   "source": [
    "train.vip.value_counts(ascending = True)"
   ]
  },
  {
   "cell_type": "code",
   "execution_count": 18,
   "metadata": {},
   "outputs": [
    {
     "data": {
      "text/plain": [
       "True     3037\n",
       "False    5439\n",
       "Name: cryosleep, dtype: int64"
      ]
     },
     "execution_count": 18,
     "metadata": {},
     "output_type": "execute_result"
    }
   ],
   "source": [
    "train.cryosleep.value_counts(ascending = True)"
   ]
  },
  {
   "cell_type": "code",
   "execution_count": 19,
   "metadata": {},
   "outputs": [
    {
     "data": {
      "text/plain": [
       "False    4315\n",
       "True     4378\n",
       "Name: transported, dtype: int64"
      ]
     },
     "execution_count": 19,
     "metadata": {},
     "output_type": "execute_result"
    }
   ],
   "source": [
    "train.transported.value_counts(ascending = True)"
   ]
  },
  {
   "attachments": {},
   "cell_type": "markdown",
   "metadata": {},
   "source": [
    "***"
   ]
  },
  {
   "attachments": {},
   "cell_type": "markdown",
   "metadata": {},
   "source": [
    "### Missing Values"
   ]
  },
  {
   "cell_type": "code",
   "execution_count": 20,
   "metadata": {},
   "outputs": [
    {
     "data": {
      "text/html": [
       "<div>\n",
       "<style scoped>\n",
       "    .dataframe tbody tr th:only-of-type {\n",
       "        vertical-align: middle;\n",
       "    }\n",
       "\n",
       "    .dataframe tbody tr th {\n",
       "        vertical-align: top;\n",
       "    }\n",
       "\n",
       "    .dataframe thead th {\n",
       "        text-align: right;\n",
       "    }\n",
       "</style>\n",
       "<table border=\"1\" class=\"dataframe\">\n",
       "  <thead>\n",
       "    <tr style=\"text-align: right;\">\n",
       "      <th></th>\n",
       "      <th>column_name</th>\n",
       "      <th>percent_missing</th>\n",
       "    </tr>\n",
       "  </thead>\n",
       "  <tbody>\n",
       "    <tr>\n",
       "      <th>cryosleep</th>\n",
       "      <td>cryosleep</td>\n",
       "      <td>2.496261</td>\n",
       "    </tr>\n",
       "    <tr>\n",
       "      <th>shoppingmall</th>\n",
       "      <td>shoppingmall</td>\n",
       "      <td>2.392730</td>\n",
       "    </tr>\n",
       "    <tr>\n",
       "      <th>vip</th>\n",
       "      <td>vip</td>\n",
       "      <td>2.335212</td>\n",
       "    </tr>\n",
       "    <tr>\n",
       "      <th>homeplanet</th>\n",
       "      <td>homeplanet</td>\n",
       "      <td>2.312205</td>\n",
       "    </tr>\n",
       "    <tr>\n",
       "      <th>name</th>\n",
       "      <td>name</td>\n",
       "      <td>2.300702</td>\n",
       "    </tr>\n",
       "    <tr>\n",
       "      <th>cabin</th>\n",
       "      <td>cabin</td>\n",
       "      <td>2.289198</td>\n",
       "    </tr>\n",
       "    <tr>\n",
       "      <th>vrdeck</th>\n",
       "      <td>vrdeck</td>\n",
       "      <td>2.162660</td>\n",
       "    </tr>\n",
       "    <tr>\n",
       "      <th>foodcourt</th>\n",
       "      <td>foodcourt</td>\n",
       "      <td>2.105142</td>\n",
       "    </tr>\n",
       "    <tr>\n",
       "      <th>spa</th>\n",
       "      <td>spa</td>\n",
       "      <td>2.105142</td>\n",
       "    </tr>\n",
       "    <tr>\n",
       "      <th>destination</th>\n",
       "      <td>destination</td>\n",
       "      <td>2.093639</td>\n",
       "    </tr>\n",
       "    <tr>\n",
       "      <th>roomservice</th>\n",
       "      <td>roomservice</td>\n",
       "      <td>2.082135</td>\n",
       "    </tr>\n",
       "    <tr>\n",
       "      <th>age</th>\n",
       "      <td>age</td>\n",
       "      <td>2.059128</td>\n",
       "    </tr>\n",
       "    <tr>\n",
       "      <th>passengerid</th>\n",
       "      <td>passengerid</td>\n",
       "      <td>0.000000</td>\n",
       "    </tr>\n",
       "    <tr>\n",
       "      <th>transported</th>\n",
       "      <td>transported</td>\n",
       "      <td>0.000000</td>\n",
       "    </tr>\n",
       "  </tbody>\n",
       "</table>\n",
       "</div>"
      ],
      "text/plain": [
       "               column_name  percent_missing\n",
       "cryosleep        cryosleep         2.496261\n",
       "shoppingmall  shoppingmall         2.392730\n",
       "vip                    vip         2.335212\n",
       "homeplanet      homeplanet         2.312205\n",
       "name                  name         2.300702\n",
       "cabin                cabin         2.289198\n",
       "vrdeck              vrdeck         2.162660\n",
       "foodcourt        foodcourt         2.105142\n",
       "spa                    spa         2.105142\n",
       "destination    destination         2.093639\n",
       "roomservice    roomservice         2.082135\n",
       "age                    age         2.059128\n",
       "passengerid    passengerid         0.000000\n",
       "transported    transported         0.000000"
      ]
     },
     "execution_count": 20,
     "metadata": {},
     "output_type": "execute_result"
    }
   ],
   "source": [
    "#Missing values train\n",
    "percent_missing_train = train.isnull().sum() * 100 / len(train)\n",
    "missing_value_train = pd.DataFrame({'column_name': train.columns,\n",
    "                                 'percent_missing': percent_missing_train}).sort_values('percent_missing', ascending=False)\n",
    "missing_value_train"
   ]
  },
  {
   "cell_type": "code",
   "execution_count": 21,
   "metadata": {},
   "outputs": [
    {
     "data": {
      "text/html": [
       "<div>\n",
       "<style scoped>\n",
       "    .dataframe tbody tr th:only-of-type {\n",
       "        vertical-align: middle;\n",
       "    }\n",
       "\n",
       "    .dataframe tbody tr th {\n",
       "        vertical-align: top;\n",
       "    }\n",
       "\n",
       "    .dataframe thead th {\n",
       "        text-align: right;\n",
       "    }\n",
       "</style>\n",
       "<table border=\"1\" class=\"dataframe\">\n",
       "  <thead>\n",
       "    <tr style=\"text-align: right;\">\n",
       "      <th></th>\n",
       "      <th>column_name</th>\n",
       "      <th>percent_missing</th>\n",
       "    </tr>\n",
       "  </thead>\n",
       "  <tbody>\n",
       "    <tr>\n",
       "      <th>foodcourt</th>\n",
       "      <td>foodcourt</td>\n",
       "      <td>2.478373</td>\n",
       "    </tr>\n",
       "    <tr>\n",
       "      <th>spa</th>\n",
       "      <td>spa</td>\n",
       "      <td>2.361468</td>\n",
       "    </tr>\n",
       "    <tr>\n",
       "      <th>cabin</th>\n",
       "      <td>cabin</td>\n",
       "      <td>2.338087</td>\n",
       "    </tr>\n",
       "    <tr>\n",
       "      <th>shoppingmall</th>\n",
       "      <td>shoppingmall</td>\n",
       "      <td>2.291326</td>\n",
       "    </tr>\n",
       "    <tr>\n",
       "      <th>name</th>\n",
       "      <td>name</td>\n",
       "      <td>2.197802</td>\n",
       "    </tr>\n",
       "    <tr>\n",
       "      <th>cryosleep</th>\n",
       "      <td>cryosleep</td>\n",
       "      <td>2.174421</td>\n",
       "    </tr>\n",
       "    <tr>\n",
       "      <th>vip</th>\n",
       "      <td>vip</td>\n",
       "      <td>2.174421</td>\n",
       "    </tr>\n",
       "    <tr>\n",
       "      <th>destination</th>\n",
       "      <td>destination</td>\n",
       "      <td>2.151040</td>\n",
       "    </tr>\n",
       "    <tr>\n",
       "      <th>age</th>\n",
       "      <td>age</td>\n",
       "      <td>2.127660</td>\n",
       "    </tr>\n",
       "    <tr>\n",
       "      <th>homeplanet</th>\n",
       "      <td>homeplanet</td>\n",
       "      <td>2.034136</td>\n",
       "    </tr>\n",
       "    <tr>\n",
       "      <th>roomservice</th>\n",
       "      <td>roomservice</td>\n",
       "      <td>1.917232</td>\n",
       "    </tr>\n",
       "    <tr>\n",
       "      <th>vrdeck</th>\n",
       "      <td>vrdeck</td>\n",
       "      <td>1.870470</td>\n",
       "    </tr>\n",
       "    <tr>\n",
       "      <th>passengerid</th>\n",
       "      <td>passengerid</td>\n",
       "      <td>0.000000</td>\n",
       "    </tr>\n",
       "  </tbody>\n",
       "</table>\n",
       "</div>"
      ],
      "text/plain": [
       "               column_name  percent_missing\n",
       "foodcourt        foodcourt         2.478373\n",
       "spa                    spa         2.361468\n",
       "cabin                cabin         2.338087\n",
       "shoppingmall  shoppingmall         2.291326\n",
       "name                  name         2.197802\n",
       "cryosleep        cryosleep         2.174421\n",
       "vip                    vip         2.174421\n",
       "destination    destination         2.151040\n",
       "age                    age         2.127660\n",
       "homeplanet      homeplanet         2.034136\n",
       "roomservice    roomservice         1.917232\n",
       "vrdeck              vrdeck         1.870470\n",
       "passengerid    passengerid         0.000000"
      ]
     },
     "execution_count": 21,
     "metadata": {},
     "output_type": "execute_result"
    }
   ],
   "source": [
    "#Missing values test\n",
    "percent_missing_test = test.isnull().sum() * 100 / len(test)\n",
    "missing_value_test = pd.DataFrame({'column_name': test.columns,\n",
    "                                 'percent_missing': percent_missing_test}).sort_values('percent_missing', ascending=False)\n",
    "missing_value_test"
   ]
  },
  {
   "attachments": {},
   "cell_type": "markdown",
   "metadata": {},
   "source": [
    "***"
   ]
  },
  {
   "attachments": {},
   "cell_type": "markdown",
   "metadata": {},
   "source": [
    "### Feature Engineering"
   ]
  },
  {
   "cell_type": "code",
   "execution_count": 22,
   "metadata": {},
   "outputs": [],
   "source": [
    "#Dropping unnecessary features\n",
    "train.drop([\"name\", \"passengerid\",\"cabin\"], axis = 1, inplace= True)\n",
    "test.drop([\"name\", \"passengerid\", \"cabin\"], axis = 1, inplace= True)"
   ]
  },
  {
   "cell_type": "code",
   "execution_count": 23,
   "metadata": {},
   "outputs": [
    {
     "name": "stdout",
     "output_type": "stream",
     "text": [
      "homeplanet---------------------------------------- 4\n",
      "destination--------------------------------------- 4\n",
      "vip----------------------------------------------- 3\n",
      "cryosleep----------------------------------------- 3\n"
     ]
    }
   ],
   "source": [
    "#Hot one column\n",
    "hot_one = []\n",
    "\n",
    "for col in train.select_dtypes(\"object\"):\n",
    "    print(f\"{col :-<50} {len(train[col].unique())}\")\n",
    "    if len(train[col].unique())<=5:\n",
    "        hot_one.append(col)"
   ]
  },
  {
   "cell_type": "code",
   "execution_count": 24,
   "metadata": {},
   "outputs": [],
   "source": [
    "#Fill NA value for ohe variable\n",
    "for e in hot_one:\n",
    "    train[e].fillna(train[e].mode()[0], inplace = True)\n",
    "    test[e].fillna(test[e].mode()[0], inplace = True)"
   ]
  },
  {
   "cell_type": "code",
   "execution_count": 25,
   "metadata": {},
   "outputs": [],
   "source": [
    "#Fill NA for float variable with median\n",
    "for col in train.select_dtypes('float'):\n",
    "    train[col].fillna(train[col].median(), inplace = True)\n",
    "    test[col].fillna(test[col].median(), inplace = True)"
   ]
  },
  {
   "cell_type": "code",
   "execution_count": 26,
   "metadata": {},
   "outputs": [
    {
     "data": {
      "text/plain": [
       "age             0\n",
       "homeplanet      0\n",
       "destination     0\n",
       "vip             0\n",
       "cryosleep       0\n",
       "transported     0\n",
       "roomservice     0\n",
       "foodcourt       0\n",
       "shoppingmall    0\n",
       "spa             0\n",
       "vrdeck          0\n",
       "dtype: int64"
      ]
     },
     "execution_count": 26,
     "metadata": {},
     "output_type": "execute_result"
    }
   ],
   "source": [
    "#NA train\n",
    "train.isna().sum().sort_values(ascending = True)"
   ]
  },
  {
   "cell_type": "code",
   "execution_count": 27,
   "metadata": {},
   "outputs": [
    {
     "data": {
      "text/plain": [
       "homeplanet      0\n",
       "cryosleep       0\n",
       "destination     0\n",
       "age             0\n",
       "vip             0\n",
       "roomservice     0\n",
       "foodcourt       0\n",
       "shoppingmall    0\n",
       "spa             0\n",
       "vrdeck          0\n",
       "dtype: int64"
      ]
     },
     "execution_count": 27,
     "metadata": {},
     "output_type": "execute_result"
    }
   ],
   "source": [
    "#NA test\n",
    "test.isna().sum().sort_values(ascending = True)"
   ]
  },
  {
   "cell_type": "code",
   "execution_count": 28,
   "metadata": {},
   "outputs": [],
   "source": [
    "#Applying dummies\n",
    "var_object_train = train.select_dtypes(\"object\")\n",
    "var_object_test = test.select_dtypes(\"object\")\n",
    "\n",
    "for col in var_object_train:\n",
    "    dumm_train = pd.get_dummies(train[col], prefix = col)\n",
    "    train = pd.concat([train, dumm_train], axis = 1)\n",
    "    train.drop(col, inplace = True, axis = 1)\n",
    "\n",
    "for col in var_object_test:\n",
    "    dumm_test = pd.get_dummies(test[col], prefix = col)\n",
    "    test = pd.concat([test, dumm_test], axis = 1)\n",
    "    test.drop(col, inplace = True, axis = 1)"
   ]
  },
  {
   "cell_type": "code",
   "execution_count": 29,
   "metadata": {},
   "outputs": [
    {
     "name": "stdout",
     "output_type": "stream",
     "text": [
      "<class 'pandas.core.frame.DataFrame'>\n",
      "Int64Index: 8693 entries, 0 to 8692\n",
      "Data columns (total 15 columns):\n",
      " #   Column                     Non-Null Count  Dtype  \n",
      "---  ------                     --------------  -----  \n",
      " 0   age                        8693 non-null   float64\n",
      " 1   vip                        8693 non-null   bool   \n",
      " 2   cryosleep                  8693 non-null   bool   \n",
      " 3   transported                8693 non-null   bool   \n",
      " 4   roomservice                8693 non-null   float64\n",
      " 5   foodcourt                  8693 non-null   float64\n",
      " 6   shoppingmall               8693 non-null   float64\n",
      " 7   spa                        8693 non-null   float64\n",
      " 8   vrdeck                     8693 non-null   float64\n",
      " 9   homeplanet_Earth           8693 non-null   uint8  \n",
      " 10  homeplanet_Europa          8693 non-null   uint8  \n",
      " 11  homeplanet_Mars            8693 non-null   uint8  \n",
      " 12  destination_55 Cancri e    8693 non-null   uint8  \n",
      " 13  destination_PSO J318.5-22  8693 non-null   uint8  \n",
      " 14  destination_TRAPPIST-1e    8693 non-null   uint8  \n",
      "dtypes: bool(3), float64(6), uint8(6)\n",
      "memory usage: 551.8 KB\n"
     ]
    }
   ],
   "source": [
    "train.info()"
   ]
  },
  {
   "cell_type": "code",
   "execution_count": 30,
   "metadata": {},
   "outputs": [
    {
     "name": "stdout",
     "output_type": "stream",
     "text": [
      "<class 'pandas.core.frame.DataFrame'>\n",
      "RangeIndex: 4277 entries, 0 to 4276\n",
      "Data columns (total 14 columns):\n",
      " #   Column                     Non-Null Count  Dtype  \n",
      "---  ------                     --------------  -----  \n",
      " 0   cryosleep                  4277 non-null   bool   \n",
      " 1   age                        4277 non-null   float64\n",
      " 2   vip                        4277 non-null   bool   \n",
      " 3   roomservice                4277 non-null   float64\n",
      " 4   foodcourt                  4277 non-null   float64\n",
      " 5   shoppingmall               4277 non-null   float64\n",
      " 6   spa                        4277 non-null   float64\n",
      " 7   vrdeck                     4277 non-null   float64\n",
      " 8   homeplanet_Earth           4277 non-null   uint8  \n",
      " 9   homeplanet_Europa          4277 non-null   uint8  \n",
      " 10  homeplanet_Mars            4277 non-null   uint8  \n",
      " 11  destination_55 Cancri e    4277 non-null   uint8  \n",
      " 12  destination_PSO J318.5-22  4277 non-null   uint8  \n",
      " 13  destination_TRAPPIST-1e    4277 non-null   uint8  \n",
      "dtypes: bool(2), float64(6), uint8(6)\n",
      "memory usage: 234.0 KB\n"
     ]
    }
   ],
   "source": [
    "test.info()"
   ]
  },
  {
   "attachments": {},
   "cell_type": "markdown",
   "metadata": {},
   "source": [
    "***"
   ]
  },
  {
   "attachments": {},
   "cell_type": "markdown",
   "metadata": {},
   "source": [
    "### Machine Learning Models"
   ]
  },
  {
   "cell_type": "code",
   "execution_count": 31,
   "metadata": {},
   "outputs": [],
   "source": [
    "#Defining features & target\n",
    "features = train.drop([\"transported\"], axis = 1)\n",
    "target = train[\"transported\"]\n",
    "\n",
    "X_train, X_test,y_train, y_test = train_test_split(features, target,\n",
    "                                   random_state = 42, \n",
    "                                   test_size = 0.2,\n",
    "                                   shuffle=True)"
   ]
  },
  {
   "attachments": {},
   "cell_type": "markdown",
   "metadata": {},
   "source": [
    "#### KNN"
   ]
  },
  {
   "cell_type": "code",
   "execution_count": 32,
   "metadata": {},
   "outputs": [
    {
     "name": "stdout",
     "output_type": "stream",
     "text": [
      "Performance for training:\n",
      "F1 score: 0.82 %\n",
      "Accuracy: 0.82 %\n",
      "Precision: 0.82 %\n",
      "Recall: 0.82 %\n",
      "--------------------------\n",
      "Performance for testing:\n",
      "F1 score: 0.77 %\n",
      "Accuracy: 0.76 %\n",
      "Precision: 0.76 %\n",
      "Recall: 0.79 %\n",
      "[[639 222]\n",
      " [188 690]]\n",
      "              precision    recall  f1-score   support\n",
      "\n",
      "       False       0.77      0.74      0.76       861\n",
      "        True       0.76      0.79      0.77       878\n",
      "\n",
      "    accuracy                           0.76      1739\n",
      "   macro avg       0.76      0.76      0.76      1739\n",
      "weighted avg       0.76      0.76      0.76      1739\n",
      "\n"
     ]
    }
   ],
   "source": [
    "from sklearn.neighbors import KNeighborsClassifier\n",
    "knn = KNeighborsClassifier()\n",
    "knn.fit(X_train, y_train)\n",
    "\n",
    "#Predictions\n",
    "y_train_pred = knn.predict(X_train)\n",
    "y_test_pred = knn.predict(X_test)\n",
    "\n",
    "#Train performance\n",
    "knn_train_f1 = f1_score(y_train, y_train_pred) #F1 score\n",
    "knn_train_accu = accuracy_score(y_train, y_train_pred) #Accuracy\n",
    "knn_train_prec = precision_score(y_train, y_train_pred) #Precision\n",
    "knn_train_recall = recall_score(y_train, y_train_pred) #recall score\n",
    "\n",
    "#Test performance\n",
    "knn_test_f1 = f1_score(y_test, y_test_pred) #F1 score\n",
    "knn_test_accu = accuracy_score(y_test, y_test_pred) #Accuracy\n",
    "knn_test_prec = precision_score(y_test, y_test_pred) #Precision\n",
    "knn_test_recall = recall_score(y_test, y_test_pred) #recall score\n",
    "\n",
    "print(\"Performance for training:\")\n",
    "print(f\"F1 score: {round(knn_train_f1, 2)} %\")\n",
    "print(f\"Accuracy: {round(knn_train_accu, 2)} %\")\n",
    "print(f\"Precision: {round(knn_train_prec, 2)} %\")\n",
    "print(f\"Recall: {round(knn_train_recall, 2)} %\")\n",
    "print(\"--------------------------\")\n",
    "print(\"Performance for testing:\")\n",
    "print(f\"F1 score: {round(knn_test_f1, 2)} %\")\n",
    "print(f\"Accuracy: {round(knn_test_accu, 2)} %\")\n",
    "print(f\"Precision: {round(knn_test_prec, 2)} %\")\n",
    "print(f\"Recall: {round(knn_test_recall, 2)} %\")\n",
    "\n",
    "print(confusion_matrix(y_test, y_test_pred))\n",
    "print(classification_report(y_test, y_test_pred))"
   ]
  },
  {
   "attachments": {},
   "cell_type": "markdown",
   "metadata": {},
   "source": [
    "#### Random Forest"
   ]
  },
  {
   "cell_type": "code",
   "execution_count": 33,
   "metadata": {},
   "outputs": [
    {
     "name": "stdout",
     "output_type": "stream",
     "text": [
      "Performance for training:\n",
      "F1 score: 0.94 %\n",
      "Accuracy: 0.93 %\n",
      "Precision: 0.9 %\n",
      "Recall: 0.97 %\n",
      "--------------------------\n",
      "Performance for testing:\n",
      "F1 score: 0.78 %\n",
      "Accuracy: 0.78 %\n",
      "Precision: 0.77 %\n",
      "Recall: 0.79 %\n",
      "[[656 205]\n",
      " [186 692]]\n",
      "              precision    recall  f1-score   support\n",
      "\n",
      "       False       0.78      0.76      0.77       861\n",
      "        True       0.77      0.79      0.78       878\n",
      "\n",
      "    accuracy                           0.78      1739\n",
      "   macro avg       0.78      0.78      0.78      1739\n",
      "weighted avg       0.78      0.78      0.78      1739\n",
      "\n"
     ]
    }
   ],
   "source": [
    "from sklearn.ensemble import RandomForestClassifier\n",
    "rf = RandomForestClassifier()\n",
    "rf.fit(X_train, y_train)\n",
    "\n",
    "#Predictions\n",
    "y_train_pred = rf.predict(X_train)\n",
    "y_test_pred = rf.predict(X_test)\n",
    "\n",
    "#Train performance\n",
    "rf_train_f1 = f1_score(y_train, y_train_pred) #F1 score\n",
    "rf_train_accu = accuracy_score(y_train, y_train_pred) #Accuracy\n",
    "rf_train_prec = precision_score(y_train, y_train_pred) #Precision\n",
    "rf_train_recall = recall_score(y_train, y_train_pred) #recall score\n",
    "\n",
    "#Test performance\n",
    "rf_test_f1 = f1_score(y_test, y_test_pred) #F1 score\n",
    "rf_test_accu = accuracy_score(y_test, y_test_pred) #Accuracy\n",
    "rf_test_prec = precision_score(y_test, y_test_pred) #Precision\n",
    "rf_test_recall = recall_score(y_test, y_test_pred) #recall score\n",
    "\n",
    "print(\"Performance for training:\")\n",
    "print(f\"F1 score: {round(rf_train_f1, 2)} %\")\n",
    "print(f\"Accuracy: {round(rf_train_accu, 2)} %\")\n",
    "print(f\"Precision: {round(rf_train_prec, 2)} %\")\n",
    "print(f\"Recall: {round(rf_train_recall, 2)} %\")\n",
    "print(\"--------------------------\")\n",
    "print(\"Performance for testing:\")\n",
    "print(f\"F1 score: {round(rf_test_f1, 2)} %\")\n",
    "print(f\"Accuracy: {round(rf_test_accu, 2)} %\")\n",
    "print(f\"Precision: {round(rf_test_prec, 2)} %\")\n",
    "print(f\"Recall: {round(rf_test_recall, 2)} %\")\n",
    "\n",
    "print(confusion_matrix(y_test, y_test_pred))\n",
    "print(classification_report(y_test, y_test_pred))"
   ]
  },
  {
   "attachments": {},
   "cell_type": "markdown",
   "metadata": {},
   "source": [
    "#### Logistic Regression"
   ]
  },
  {
   "cell_type": "code",
   "execution_count": 34,
   "metadata": {},
   "outputs": [
    {
     "name": "stdout",
     "output_type": "stream",
     "text": [
      "Performance for training:\n",
      "F1 score: 0.79 %\n",
      "Accuracy: 0.79 %\n",
      "Precision: 0.78 %\n",
      "Recall: 0.8 %\n",
      "--------------------------\n",
      "Performance for testing:\n",
      "F1 score: 0.78 %\n",
      "Accuracy: 0.78 %\n",
      "Precision: 0.76 %\n",
      "Recall: 0.81 %\n",
      "[[641 220]\n",
      " [171 707]]\n",
      "              precision    recall  f1-score   support\n",
      "\n",
      "       False       0.79      0.74      0.77       861\n",
      "        True       0.76      0.81      0.78       878\n",
      "\n",
      "    accuracy                           0.78      1739\n",
      "   macro avg       0.78      0.77      0.77      1739\n",
      "weighted avg       0.78      0.78      0.77      1739\n",
      "\n"
     ]
    }
   ],
   "source": [
    "from sklearn.linear_model import LogisticRegression\n",
    "\n",
    "lg = LogisticRegression()\n",
    "lg.fit(X_train, y_train)\n",
    "\n",
    "#Predictions\n",
    "y_train_pred = lg.predict(X_train)\n",
    "y_test_pred = lg.predict(X_test)\n",
    "\n",
    "#Train performance\n",
    "lg_train_f1 = f1_score(y_train, y_train_pred) #F1 score\n",
    "lg_train_accu = accuracy_score(y_train, y_train_pred) #Accuracy\n",
    "lg_train_prec = precision_score(y_train, y_train_pred) #Precision\n",
    "lg_train_recall = recall_score(y_train, y_train_pred) #recall score\n",
    "\n",
    "#Test performance\n",
    "lg_test_f1 = f1_score(y_test, y_test_pred) #F1 score\n",
    "lg_test_accu = accuracy_score(y_test, y_test_pred) #Accuracy\n",
    "lg_test_prec = precision_score(y_test, y_test_pred) #Precision\n",
    "lg_test_recall = recall_score(y_test, y_test_pred) #recall score\n",
    "\n",
    "print(\"Performance for training:\")\n",
    "print(f\"F1 score: {round(lg_train_f1, 2)} %\")\n",
    "print(f\"Accuracy: {round(lg_train_accu, 2)} %\")\n",
    "print(f\"Precision: {round(lg_train_prec, 2)} %\")\n",
    "print(f\"Recall: {round(lg_train_recall, 2)} %\")\n",
    "print(\"--------------------------\")\n",
    "print(\"Performance for testing:\")\n",
    "print(f\"F1 score: {round(lg_test_f1, 2)} %\")\n",
    "print(f\"Accuracy: {round(lg_test_accu, 2)} %\")\n",
    "print(f\"Precision: {round(lg_test_prec, 2)} %\")\n",
    "print(f\"Recall: {round(lg_test_recall, 2)} %\")\n",
    "\n",
    "print(confusion_matrix(y_test, y_test_pred))\n",
    "print(classification_report(y_test, y_test_pred))"
   ]
  },
  {
   "attachments": {},
   "cell_type": "markdown",
   "metadata": {},
   "source": [
    "***"
   ]
  },
  {
   "attachments": {},
   "cell_type": "markdown",
   "metadata": {},
   "source": [
    "#### Results"
   ]
  },
  {
   "cell_type": "code",
   "execution_count": 35,
   "metadata": {},
   "outputs": [],
   "source": [
    "# Creating the DataFrame test\n",
    "df_dict_test = pd.DataFrame({\n",
    "                   \"F1\":[rf_test_f1, lg_test_f1, knn_test_f1],\n",
    "                   \"Recall\" :[rf_test_recall, lg_test_recall, knn_test_recall],\n",
    "                   \"Accuracy\":[rf_test_accu, lg_test_accu, knn_test_accu],\n",
    "                   \"Precision\":[rf_test_prec, lg_test_prec, knn_test_prec]\n",
    "                   })\n",
    "  \n",
    "# Create the index\n",
    "index_ = [\"rf\",\"lg\",\"knn\" ]\n",
    "  \n",
    "# Set the index\n",
    "df_dict_test.index = index_\n",
    "  "
   ]
  },
  {
   "cell_type": "code",
   "execution_count": 36,
   "metadata": {},
   "outputs": [
    {
     "data": {
      "text/html": [
       "<div>\n",
       "<style scoped>\n",
       "    .dataframe tbody tr th:only-of-type {\n",
       "        vertical-align: middle;\n",
       "    }\n",
       "\n",
       "    .dataframe tbody tr th {\n",
       "        vertical-align: top;\n",
       "    }\n",
       "\n",
       "    .dataframe thead th {\n",
       "        text-align: right;\n",
       "    }\n",
       "</style>\n",
       "<table border=\"1\" class=\"dataframe\">\n",
       "  <thead>\n",
       "    <tr style=\"text-align: right;\">\n",
       "      <th></th>\n",
       "      <th>F1</th>\n",
       "      <th>Recall</th>\n",
       "      <th>Accuracy</th>\n",
       "      <th>Precision</th>\n",
       "    </tr>\n",
       "  </thead>\n",
       "  <tbody>\n",
       "    <tr>\n",
       "      <th>rf</th>\n",
       "      <td>0.779718</td>\n",
       "      <td>0.788155</td>\n",
       "      <td>0.775158</td>\n",
       "      <td>0.771460</td>\n",
       "    </tr>\n",
       "    <tr>\n",
       "      <th>lg</th>\n",
       "      <td>0.783380</td>\n",
       "      <td>0.805239</td>\n",
       "      <td>0.775158</td>\n",
       "      <td>0.762675</td>\n",
       "    </tr>\n",
       "    <tr>\n",
       "      <th>knn</th>\n",
       "      <td>0.770950</td>\n",
       "      <td>0.785877</td>\n",
       "      <td>0.764232</td>\n",
       "      <td>0.756579</td>\n",
       "    </tr>\n",
       "  </tbody>\n",
       "</table>\n",
       "</div>"
      ],
      "text/plain": [
       "           F1    Recall  Accuracy  Precision\n",
       "rf   0.779718  0.788155  0.775158   0.771460\n",
       "lg   0.783380  0.805239  0.775158   0.762675\n",
       "knn  0.770950  0.785877  0.764232   0.756579"
      ]
     },
     "execution_count": 36,
     "metadata": {},
     "output_type": "execute_result"
    }
   ],
   "source": [
    "#Test results\n",
    "df_dict_test"
   ]
  },
  {
   "cell_type": "code",
   "execution_count": 37,
   "metadata": {},
   "outputs": [],
   "source": [
    "preds = rf.predict(X_test)\n",
    "data = {'Transported':preds}\n",
    "results = pd.DataFrame(data)\n",
    "results.to_csv(r\"C:\\Users\\gcuci\\Desktop\\Interestellar Project\\data\\resultados.csv\")"
   ]
  },
  {
   "cell_type": "code",
   "execution_count": 38,
   "metadata": {},
   "outputs": [],
   "source": [
    "x = pd.read_csv(r\"C:\\Users\\gcuci\\Desktop\\Interestellar Project\\data\\resultados.csv\")"
   ]
  },
  {
   "cell_type": "code",
   "execution_count": 39,
   "metadata": {},
   "outputs": [
    {
     "data": {
      "text/plain": [
       "False"
      ]
     },
     "execution_count": 39,
     "metadata": {},
     "output_type": "execute_result"
    }
   ],
   "source": [
    "x[\"Transported\"][0]"
   ]
  }
 ],
 "metadata": {
  "kernelspec": {
   "display_name": "base",
   "language": "python",
   "name": "python3"
  },
  "language_info": {
   "codemirror_mode": {
    "name": "ipython",
    "version": 3
   },
   "file_extension": ".py",
   "mimetype": "text/x-python",
   "name": "python",
   "nbconvert_exporter": "python",
   "pygments_lexer": "ipython3",
   "version": "3.9.13"
  },
  "vscode": {
   "interpreter": {
    "hash": "f47edfba91416d493ea3e5a65666214c1a1d559c05c1588476f566046e3093f3"
   }
  }
 },
 "nbformat": 4,
 "nbformat_minor": 2
}
